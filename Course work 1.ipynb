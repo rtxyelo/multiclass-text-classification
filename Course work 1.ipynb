{
 "cells": [
  {
   "cell_type": "code",
   "execution_count": 1,
   "id": "3396eddb",
   "metadata": {},
   "outputs": [],
   "source": [
    "import pandas as pd\n",
    "import numpy as np\n",
    "from tqdm.auto import tqdm, trange"
   ]
  },
  {
   "cell_type": "code",
   "execution_count": 2,
   "id": "c6225326",
   "metadata": {},
   "outputs": [
    {
     "name": "stderr",
     "output_type": "stream",
     "text": [
      "C:\\Users\\seryy\\anaconda3\\lib\\site-packages\\IPython\\core\\interactiveshell.py:3165: DtypeWarning: Columns (3) have mixed types.Specify dtype option on import or set low_memory=False.\n",
      "  has_raised = await self.run_ast_nodes(code_ast.body, cell_name,\n"
     ]
    }
   ],
   "source": [
    "data = pd.read_csv('lenta-ru-news.csv')"
   ]
  },
  {
   "cell_type": "code",
   "execution_count": 3,
   "id": "2318c7e5",
   "metadata": {},
   "outputs": [
    {
     "data": {
      "text/plain": [
       "(800975, 6)"
      ]
     },
     "execution_count": 3,
     "metadata": {},
     "output_type": "execute_result"
    }
   ],
   "source": [
    "data.shape"
   ]
  },
  {
   "cell_type": "code",
   "execution_count": 4,
   "id": "f45fcce2",
   "metadata": {},
   "outputs": [],
   "source": [
    "data = data[:500000]"
   ]
  },
  {
   "cell_type": "code",
   "execution_count": 5,
   "id": "1edc05e4",
   "metadata": {},
   "outputs": [
    {
     "data": {
      "text/html": [
       "<div>\n",
       "<style scoped>\n",
       "    .dataframe tbody tr th:only-of-type {\n",
       "        vertical-align: middle;\n",
       "    }\n",
       "\n",
       "    .dataframe tbody tr th {\n",
       "        vertical-align: top;\n",
       "    }\n",
       "\n",
       "    .dataframe thead th {\n",
       "        text-align: right;\n",
       "    }\n",
       "</style>\n",
       "<table border=\"1\" class=\"dataframe\">\n",
       "  <thead>\n",
       "    <tr style=\"text-align: right;\">\n",
       "      <th></th>\n",
       "      <th>url</th>\n",
       "      <th>title</th>\n",
       "      <th>text</th>\n",
       "      <th>topic</th>\n",
       "      <th>tags</th>\n",
       "      <th>date</th>\n",
       "    </tr>\n",
       "  </thead>\n",
       "  <tbody>\n",
       "    <tr>\n",
       "      <th>0</th>\n",
       "      <td>https://lenta.ru/news/1914/09/16/hungarnn/</td>\n",
       "      <td>1914. Русские войска вступили в пределы Венгрии</td>\n",
       "      <td>Бои у Сопоцкина и Друскеник закончились отступ...</td>\n",
       "      <td>Библиотека</td>\n",
       "      <td>Первая мировая</td>\n",
       "      <td>1914/09/16</td>\n",
       "    </tr>\n",
       "    <tr>\n",
       "      <th>1</th>\n",
       "      <td>https://lenta.ru/news/1914/09/16/lermontov/</td>\n",
       "      <td>1914. Празднование столетия М.Ю. Лермонтова от...</td>\n",
       "      <td>Министерство народного просвещения, в виду про...</td>\n",
       "      <td>Библиотека</td>\n",
       "      <td>Первая мировая</td>\n",
       "      <td>1914/09/16</td>\n",
       "    </tr>\n",
       "    <tr>\n",
       "      <th>2</th>\n",
       "      <td>https://lenta.ru/news/1914/09/17/nesteroff/</td>\n",
       "      <td>1914. Das ist Nesteroff!</td>\n",
       "      <td>Штабс-капитан П. Н. Нестеров на днях, увидев в...</td>\n",
       "      <td>Библиотека</td>\n",
       "      <td>Первая мировая</td>\n",
       "      <td>1914/09/17</td>\n",
       "    </tr>\n",
       "  </tbody>\n",
       "</table>\n",
       "</div>"
      ],
      "text/plain": [
       "                                           url  \\\n",
       "0   https://lenta.ru/news/1914/09/16/hungarnn/   \n",
       "1  https://lenta.ru/news/1914/09/16/lermontov/   \n",
       "2  https://lenta.ru/news/1914/09/17/nesteroff/   \n",
       "\n",
       "                                               title  \\\n",
       "0  1914. Русские войска вступили в пределы Венгрии     \n",
       "1  1914. Празднование столетия М.Ю. Лермонтова от...   \n",
       "2                           1914. Das ist Nesteroff!   \n",
       "\n",
       "                                                text       topic  \\\n",
       "0  Бои у Сопоцкина и Друскеник закончились отступ...  Библиотека   \n",
       "1  Министерство народного просвещения, в виду про...  Библиотека   \n",
       "2  Штабс-капитан П. Н. Нестеров на днях, увидев в...  Библиотека   \n",
       "\n",
       "             tags        date  \n",
       "0  Первая мировая  1914/09/16  \n",
       "1  Первая мировая  1914/09/16  \n",
       "2  Первая мировая  1914/09/17  "
      ]
     },
     "execution_count": 5,
     "metadata": {},
     "output_type": "execute_result"
    }
   ],
   "source": [
    "data.head(3)"
   ]
  },
  {
   "cell_type": "code",
   "execution_count": 6,
   "id": "f56fce85",
   "metadata": {},
   "outputs": [],
   "source": [
    "#print(data['tags'].unique(), len(data['tags'].unique()))"
   ]
  },
  {
   "cell_type": "code",
   "execution_count": 7,
   "id": "14536eed",
   "metadata": {},
   "outputs": [
    {
     "name": "stdout",
     "output_type": "stream",
     "text": [
      "['Библиотека' 'Россия' 'Мир' 'Экономика' 'Интернет и СМИ' 'Спорт'\n",
      " 'Культура' 'Из жизни' 'Силовые структуры' 'Наука и техника' 'Бывший СССР'\n",
      " nan 'Дом' 'Сочи'] 14\n"
     ]
    }
   ],
   "source": [
    "print(data['topic'].unique(), len(data['topic'].unique()))"
   ]
  },
  {
   "cell_type": "code",
   "execution_count": null,
   "id": "26bd5dfa",
   "metadata": {},
   "outputs": [],
   "source": []
  },
  {
   "cell_type": "code",
   "execution_count": null,
   "id": "fd4a8731",
   "metadata": {},
   "outputs": [],
   "source": []
  },
  {
   "cell_type": "code",
   "execution_count": 8,
   "id": "282e1c13",
   "metadata": {},
   "outputs": [],
   "source": [
    "#Выборка данных"
   ]
  },
  {
   "cell_type": "code",
   "execution_count": 9,
   "id": "db9036fe",
   "metadata": {},
   "outputs": [],
   "source": [
    "topics = ['Россия', 'Спорт', 'Мир', 'Наука и техника', 'Экономика']\n",
    "news_in_cat_count = 2000"
   ]
  },
  {
   "cell_type": "code",
   "execution_count": 10,
   "id": "11c558ac",
   "metadata": {},
   "outputs": [
    {
     "data": {
      "application/vnd.jupyter.widget-view+json": {
       "model_id": "7b7bc6639ce54745a0ecc295003700b8",
       "version_major": 2,
       "version_minor": 0
      },
      "text/plain": [
       "  0%|          | 0/5 [00:00<?, ?it/s]"
      ]
     },
     "metadata": {},
     "output_type": "display_data"
    }
   ],
   "source": [
    "df_res = pd.DataFrame()\n",
    "\n",
    "for topic in tqdm(topics):\n",
    "    df_topic = data[data['topic'] == topic][:news_in_cat_count]\n",
    "    df_res = df_res.append(df_topic, ignore_index=True)"
   ]
  },
  {
   "cell_type": "code",
   "execution_count": 11,
   "id": "fdd1c4b9",
   "metadata": {},
   "outputs": [
    {
     "data": {
      "text/plain": [
       "(10000, 6)"
      ]
     },
     "execution_count": 11,
     "metadata": {},
     "output_type": "execute_result"
    }
   ],
   "source": [
    "df_res.shape"
   ]
  },
  {
   "cell_type": "code",
   "execution_count": 12,
   "id": "93e3ba88",
   "metadata": {},
   "outputs": [
    {
     "data": {
      "text/plain": [
       "'В конце прошлой недели сотрудники Государственного таможенного комитета  и Федеральной службы безопасности РФ провели антипиратскую акцию. Однако если прежде правоохранительные органы конфисковывали пиратскую продукцию и задерживали ее распространителей, то в этот раз акция была направлена непосредственно против производителей пиратских компакт-дисков, -сообщает агентство \"Алгоритм\". Оперативно-розыскные действия проводились одновременно в подмосковном Зеленограде и на административной российско-белорусской границе, где и была задержана машина с 13 тысячами произведенных в Зеленограде компакт-дисков (их конечным местом назначения была Польша). После задержания машины сотрудники ГТК и ФСБ провели обыск и задержания на подпольном заводе в Зеленограде, который располагался в арендованном у режимного предприятия \"Компонент\" (занимается производством микросхем для ВПК) помещении. Хозяином завода оказалась фирма \"Диск-пресс МСК\". По данным правоохранительных органов, \"Диск-пресс МСК\" принадлежит гражданину Болгарии — одному из компаньонов арестованного в 1997 году Филиппа Стайкова (кличка — Болгарин). Используемая этой пиратской фирмой производственная линия была приобретена в Чехии и привезена в Россию под видом кузнечных прессов. Стоимость оборудования составила около 1 миллиона долларов США. За сутки на этой линии можно было напечатать от 5 до 20 тысяч компакт-дисков, которые продавались оптовым покупателям по цене 0,4 доллара за штуку. При обыске на заводе было обнаружено 130 тысяч уже напечатанных пиратских компакт-дисков. В результате операции были арестованы два человека, которым предъявлено обвинение в контрабанде. Предполагается, что в ближайшее время им также предъявят обвинения в незаконном предпринимательстве, нарушении авторских прав и неуплате налогов. По сведениям \"Алгоритма\" , закрытие производства в Зеленограде вызвало панику у продавцов компакт-дисков на Митинском рынке и \"Горбушке\".'"
      ]
     },
     "execution_count": 12,
     "metadata": {},
     "output_type": "execute_result"
    }
   ],
   "source": [
    "df_res['text'][300]"
   ]
  },
  {
   "cell_type": "code",
   "execution_count": null,
   "id": "b4f10f90",
   "metadata": {},
   "outputs": [],
   "source": []
  },
  {
   "cell_type": "code",
   "execution_count": null,
   "id": "715452d3",
   "metadata": {},
   "outputs": [],
   "source": []
  },
  {
   "cell_type": "code",
   "execution_count": 13,
   "id": "004d181d",
   "metadata": {},
   "outputs": [],
   "source": [
    "#Предобработка"
   ]
  },
  {
   "cell_type": "code",
   "execution_count": 14,
   "id": "b1b91733",
   "metadata": {},
   "outputs": [],
   "source": [
    "import string\n",
    "def remove_punctuation(text):\n",
    "    return \"\".join([ch if ch not in string.punctuation else ' ' for ch in text])\n",
    "\n",
    "def remove_numbers(text):\n",
    "    return ''.join([i if not i.isdigit() else ' ' for i in text])\n",
    "\n",
    "import re\n",
    "def remove_multiple_spaces(text):\n",
    "\treturn re.sub(r'\\s+', ' ', text, flags=re.I)\n",
    "\n",
    "from nltk.stem import *\n",
    "from nltk.corpus import stopwords\n",
    "from pymystem3 import Mystem\n",
    "from string import punctuation\n",
    "mystem = Mystem() \n",
    "\n",
    "russian_stopwords = stopwords.words(\"russian\")\n",
    "russian_stopwords.extend(['…', '«', '»', '...'])\n",
    "def lemmatize_text(text):\n",
    "    tokens = mystem.lemmatize(text.lower())\n",
    "    tokens = [token for token in tokens if token not in russian_stopwords and token != \" \"]\n",
    "    text = \" \".join(tokens)\n",
    "    return text"
   ]
  },
  {
   "cell_type": "code",
   "execution_count": 15,
   "id": "62d808cf",
   "metadata": {},
   "outputs": [],
   "source": [
    "prep_text = [remove_multiple_spaces(remove_numbers(remove_punctuation(text.lower()))) for text in df_res['text']]"
   ]
  },
  {
   "cell_type": "code",
   "execution_count": 16,
   "id": "7ad42caa",
   "metadata": {},
   "outputs": [
    {
     "data": {
      "text/plain": [
       "'в конце прошлой недели сотрудники государственного таможенного комитета и федеральной службы безопасности рф провели антипиратскую акцию однако если прежде правоохранительные органы конфисковывали пиратскую продукцию и задерживали ее распространителей то в этот раз акция была направлена непосредственно против производителей пиратских компакт дисков сообщает агентство алгоритм оперативно розыскные действия проводились одновременно в подмосковном зеленограде и на административной российско белорусской границе где и была задержана машина с тысячами произведенных в зеленограде компакт дисков их конечным местом назначения была польша после задержания машины сотрудники гтк и фсб провели обыск и задержания на подпольном заводе в зеленограде который располагался в арендованном у режимного предприятия компонент занимается производством микросхем для впк помещении хозяином завода оказалась фирма диск пресс мск по данным правоохранительных органов диск пресс мск принадлежит гражданину болгарии — одному из компаньонов арестованного в году филиппа стайкова кличка — болгарин используемая этой пиратской фирмой производственная линия была приобретена в чехии и привезена в россию под видом кузнечных прессов стоимость оборудования составила около миллиона долларов сша за сутки на этой линии можно было напечатать от до тысяч компакт дисков которые продавались оптовым покупателям по цене доллара за штуку при обыске на заводе было обнаружено тысяч уже напечатанных пиратских компакт дисков в результате операции были арестованы два человека которым предъявлено обвинение в контрабанде предполагается что в ближайшее время им также предъявят обвинения в незаконном предпринимательстве нарушении авторских прав и неуплате налогов по сведениям алгоритма закрытие производства в зеленограде вызвало панику у продавцов компакт дисков на митинском рынке и горбушке '"
      ]
     },
     "execution_count": 16,
     "metadata": {},
     "output_type": "execute_result"
    }
   ],
   "source": [
    "prep_text[300]"
   ]
  },
  {
   "cell_type": "code",
   "execution_count": 17,
   "id": "a9c368dd",
   "metadata": {},
   "outputs": [],
   "source": [
    "#df_res['text'][300]"
   ]
  },
  {
   "cell_type": "code",
   "execution_count": 18,
   "id": "cbe39dc7",
   "metadata": {},
   "outputs": [],
   "source": [
    "df_res['text_prep'] = prep_text"
   ]
  },
  {
   "cell_type": "code",
   "execution_count": 19,
   "id": "011287fe",
   "metadata": {},
   "outputs": [
    {
     "data": {
      "text/html": [
       "<div>\n",
       "<style scoped>\n",
       "    .dataframe tbody tr th:only-of-type {\n",
       "        vertical-align: middle;\n",
       "    }\n",
       "\n",
       "    .dataframe tbody tr th {\n",
       "        vertical-align: top;\n",
       "    }\n",
       "\n",
       "    .dataframe thead th {\n",
       "        text-align: right;\n",
       "    }\n",
       "</style>\n",
       "<table border=\"1\" class=\"dataframe\">\n",
       "  <thead>\n",
       "    <tr style=\"text-align: right;\">\n",
       "      <th></th>\n",
       "      <th>url</th>\n",
       "      <th>title</th>\n",
       "      <th>text</th>\n",
       "      <th>topic</th>\n",
       "      <th>tags</th>\n",
       "      <th>date</th>\n",
       "      <th>text_prep</th>\n",
       "    </tr>\n",
       "  </thead>\n",
       "  <tbody>\n",
       "    <tr>\n",
       "      <th>0</th>\n",
       "      <td>https://lenta.ru/news/1999/08/31/stancia_mir/</td>\n",
       "      <td>Космонавты сомневаются в надежности \"Мира\"</td>\n",
       "      <td>Как стало известно агентству Ассошиэйтед Пресс...</td>\n",
       "      <td>Россия</td>\n",
       "      <td>Все</td>\n",
       "      <td>1999/08/31</td>\n",
       "      <td>как стало известно агентству ассошиэйтед пресс...</td>\n",
       "    </tr>\n",
       "    <tr>\n",
       "      <th>1</th>\n",
       "      <td>https://lenta.ru/news/1999/08/31/vzriv/</td>\n",
       "      <td>Взрыв в центре Москвы: пострадало 30 человек</td>\n",
       "      <td>В зале игровых автоматов в третьем ярусе подзе...</td>\n",
       "      <td>Россия</td>\n",
       "      <td>Все</td>\n",
       "      <td>1999/08/31</td>\n",
       "      <td>в зале игровых автоматов в третьем ярусе подзе...</td>\n",
       "    </tr>\n",
       "    <tr>\n",
       "      <th>2</th>\n",
       "      <td>https://lenta.ru/news/1999/08/31/credit_japs/</td>\n",
       "      <td>Япония кредитует Россию на полтора миллиарда д...</td>\n",
       "      <td>Япония приняла решение разморозить кредиты Рос...</td>\n",
       "      <td>Россия</td>\n",
       "      <td>Все</td>\n",
       "      <td>1999/08/31</td>\n",
       "      <td>япония приняла решение разморозить кредиты рос...</td>\n",
       "    </tr>\n",
       "  </tbody>\n",
       "</table>\n",
       "</div>"
      ],
      "text/plain": [
       "                                             url  \\\n",
       "0  https://lenta.ru/news/1999/08/31/stancia_mir/   \n",
       "1        https://lenta.ru/news/1999/08/31/vzriv/   \n",
       "2  https://lenta.ru/news/1999/08/31/credit_japs/   \n",
       "\n",
       "                                               title  \\\n",
       "0         Космонавты сомневаются в надежности \"Мира\"   \n",
       "1       Взрыв в центре Москвы: пострадало 30 человек   \n",
       "2  Япония кредитует Россию на полтора миллиарда д...   \n",
       "\n",
       "                                                text   topic tags        date  \\\n",
       "0  Как стало известно агентству Ассошиэйтед Пресс...  Россия  Все  1999/08/31   \n",
       "1  В зале игровых автоматов в третьем ярусе подзе...  Россия  Все  1999/08/31   \n",
       "2  Япония приняла решение разморозить кредиты Рос...  Россия  Все  1999/08/31   \n",
       "\n",
       "                                           text_prep  \n",
       "0  как стало известно агентству ассошиэйтед пресс...  \n",
       "1  в зале игровых автоматов в третьем ярусе подзе...  \n",
       "2  япония приняла решение разморозить кредиты рос...  "
      ]
     },
     "execution_count": 19,
     "metadata": {},
     "output_type": "execute_result"
    }
   ],
   "source": [
    "df_res.head(3)"
   ]
  },
  {
   "cell_type": "code",
   "execution_count": 20,
   "id": "a94cb826",
   "metadata": {},
   "outputs": [
    {
     "data": {
      "text/plain": [
       "(10000, 7)"
      ]
     },
     "execution_count": 20,
     "metadata": {},
     "output_type": "execute_result"
    }
   ],
   "source": [
    "df_res.shape"
   ]
  },
  {
   "cell_type": "code",
   "execution_count": null,
   "id": "5c8c55a7",
   "metadata": {},
   "outputs": [],
   "source": []
  },
  {
   "cell_type": "code",
   "execution_count": null,
   "id": "6b31b836",
   "metadata": {},
   "outputs": [],
   "source": []
  },
  {
   "cell_type": "code",
   "execution_count": 21,
   "id": "18662adc",
   "metadata": {},
   "outputs": [],
   "source": [
    "#Стемминг"
   ]
  },
  {
   "cell_type": "code",
   "execution_count": 22,
   "id": "0752bf08",
   "metadata": {},
   "outputs": [],
   "source": [
    "from nltk.stem.snowball import SnowballStemmer \n",
    "stemmer = SnowballStemmer(\"russian\")"
   ]
  },
  {
   "cell_type": "code",
   "execution_count": 23,
   "id": "6923ddfd",
   "metadata": {},
   "outputs": [
    {
     "name": "stderr",
     "output_type": "stream",
     "text": [
      "[nltk_data] Error loading punkt: <urlopen error [Errno 11001]\n",
      "[nltk_data]     getaddrinfo failed>\n",
      "[nltk_data] Downloading package stopwords to\n",
      "[nltk_data]     C:\\Users\\seryy\\AppData\\Roaming\\nltk_data...\n",
      "[nltk_data]   Package stopwords is already up-to-date!\n"
     ]
    }
   ],
   "source": [
    "import nltk\n",
    "nltk.download('punkt')\n",
    "nltk.download('stopwords')\n",
    "\n",
    "russian_stopwords = stopwords.words(\"russian\")\n",
    "russian_stopwords.extend(['…', '«', '»', '...', 'т.д.', 'т', 'д'])"
   ]
  },
  {
   "cell_type": "code",
   "execution_count": 24,
   "id": "58297b91",
   "metadata": {},
   "outputs": [
    {
     "data": {
      "text/plain": [
       "['в',\n",
       " 'конце',\n",
       " 'прошлой',\n",
       " 'недели',\n",
       " 'сотрудники',\n",
       " 'государственного',\n",
       " 'таможенного',\n",
       " 'комитета',\n",
       " 'и',\n",
       " 'федеральной',\n",
       " 'службы',\n",
       " 'безопасности',\n",
       " 'рф',\n",
       " 'провели',\n",
       " 'антипиратскую',\n",
       " 'акцию',\n",
       " 'однако',\n",
       " 'если',\n",
       " 'прежде',\n",
       " 'правоохранительные',\n",
       " 'органы',\n",
       " 'конфисковывали',\n",
       " 'пиратскую',\n",
       " 'продукцию',\n",
       " 'и',\n",
       " 'задерживали',\n",
       " 'ее',\n",
       " 'распространителей',\n",
       " 'то',\n",
       " 'в',\n",
       " 'этот',\n",
       " 'раз',\n",
       " 'акция',\n",
       " 'была',\n",
       " 'направлена',\n",
       " 'непосредственно',\n",
       " 'против',\n",
       " 'производителей',\n",
       " 'пиратских',\n",
       " 'компакт',\n",
       " 'дисков',\n",
       " 'сообщает',\n",
       " 'агентство',\n",
       " 'алгоритм',\n",
       " 'оперативно',\n",
       " 'розыскные',\n",
       " 'действия',\n",
       " 'проводились',\n",
       " 'одновременно',\n",
       " 'в',\n",
       " 'подмосковном',\n",
       " 'зеленограде',\n",
       " 'и',\n",
       " 'на',\n",
       " 'административной',\n",
       " 'российско',\n",
       " 'белорусской',\n",
       " 'границе',\n",
       " 'где',\n",
       " 'и',\n",
       " 'была',\n",
       " 'задержана',\n",
       " 'машина',\n",
       " 'с',\n",
       " 'тысячами',\n",
       " 'произведенных',\n",
       " 'в',\n",
       " 'зеленограде',\n",
       " 'компакт',\n",
       " 'дисков',\n",
       " 'их',\n",
       " 'конечным',\n",
       " 'местом',\n",
       " 'назначения',\n",
       " 'была',\n",
       " 'польша',\n",
       " 'после',\n",
       " 'задержания',\n",
       " 'машины',\n",
       " 'сотрудники',\n",
       " 'гтк',\n",
       " 'и',\n",
       " 'фсб',\n",
       " 'провели',\n",
       " 'обыск',\n",
       " 'и',\n",
       " 'задержания',\n",
       " 'на',\n",
       " 'подпольном',\n",
       " 'заводе',\n",
       " 'в',\n",
       " 'зеленограде',\n",
       " 'который',\n",
       " 'располагался',\n",
       " 'в',\n",
       " 'арендованном',\n",
       " 'у',\n",
       " 'режимного',\n",
       " 'предприятия',\n",
       " 'компонент',\n",
       " 'занимается',\n",
       " 'производством',\n",
       " 'микросхем',\n",
       " 'для',\n",
       " 'впк',\n",
       " 'помещении',\n",
       " 'хозяином',\n",
       " 'завода',\n",
       " 'оказалась',\n",
       " 'фирма',\n",
       " 'диск',\n",
       " 'пресс',\n",
       " 'мск',\n",
       " 'по',\n",
       " 'данным',\n",
       " 'правоохранительных',\n",
       " 'органов',\n",
       " 'диск',\n",
       " 'пресс',\n",
       " 'мск',\n",
       " 'принадлежит',\n",
       " 'гражданину',\n",
       " 'болгарии',\n",
       " '—',\n",
       " 'одному',\n",
       " 'из',\n",
       " 'компаньонов',\n",
       " 'арестованного',\n",
       " 'в',\n",
       " 'году',\n",
       " 'филиппа',\n",
       " 'стайкова',\n",
       " 'кличка',\n",
       " '—',\n",
       " 'болгарин',\n",
       " 'используемая',\n",
       " 'этой',\n",
       " 'пиратской',\n",
       " 'фирмой',\n",
       " 'производственная',\n",
       " 'линия',\n",
       " 'была',\n",
       " 'приобретена',\n",
       " 'в',\n",
       " 'чехии',\n",
       " 'и',\n",
       " 'привезена',\n",
       " 'в',\n",
       " 'россию',\n",
       " 'под',\n",
       " 'видом',\n",
       " 'кузнечных',\n",
       " 'прессов',\n",
       " 'стоимость',\n",
       " 'оборудования',\n",
       " 'составила',\n",
       " 'около',\n",
       " 'миллиона',\n",
       " 'долларов',\n",
       " 'сша',\n",
       " 'за',\n",
       " 'сутки',\n",
       " 'на',\n",
       " 'этой',\n",
       " 'линии',\n",
       " 'можно',\n",
       " 'было',\n",
       " 'напечатать',\n",
       " 'от',\n",
       " 'до',\n",
       " 'тысяч',\n",
       " 'компакт',\n",
       " 'дисков',\n",
       " 'которые',\n",
       " 'продавались',\n",
       " 'оптовым',\n",
       " 'покупателям',\n",
       " 'по',\n",
       " 'цене',\n",
       " 'доллара',\n",
       " 'за',\n",
       " 'штуку',\n",
       " 'при',\n",
       " 'обыске',\n",
       " 'на',\n",
       " 'заводе',\n",
       " 'было',\n",
       " 'обнаружено',\n",
       " 'тысяч',\n",
       " 'уже',\n",
       " 'напечатанных',\n",
       " 'пиратских',\n",
       " 'компакт',\n",
       " 'дисков',\n",
       " 'в',\n",
       " 'результате',\n",
       " 'операции',\n",
       " 'были',\n",
       " 'арестованы',\n",
       " 'два',\n",
       " 'человека',\n",
       " 'которым',\n",
       " 'предъявлено',\n",
       " 'обвинение',\n",
       " 'в',\n",
       " 'контрабанде',\n",
       " 'предполагается',\n",
       " 'что',\n",
       " 'в',\n",
       " 'ближайшее',\n",
       " 'время',\n",
       " 'им',\n",
       " 'также',\n",
       " 'предъявят',\n",
       " 'обвинения',\n",
       " 'в',\n",
       " 'незаконном',\n",
       " 'предпринимательстве',\n",
       " 'нарушении',\n",
       " 'авторских',\n",
       " 'прав',\n",
       " 'и',\n",
       " 'неуплате',\n",
       " 'налогов',\n",
       " 'по',\n",
       " 'сведениям',\n",
       " 'алгоритма',\n",
       " 'закрытие',\n",
       " 'производства',\n",
       " 'в',\n",
       " 'зеленограде',\n",
       " 'вызвало',\n",
       " 'панику',\n",
       " 'у',\n",
       " 'продавцов',\n",
       " 'компакт',\n",
       " 'дисков',\n",
       " 'на',\n",
       " 'митинском',\n",
       " 'рынке',\n",
       " 'и',\n",
       " 'горбушке']"
      ]
     },
     "execution_count": 24,
     "metadata": {},
     "output_type": "execute_result"
    }
   ],
   "source": [
    "from nltk import word_tokenize\n",
    "text = df_res['text_prep'][300]\n",
    "word_tokenize(text)\n",
    "#print(russian_stopwords)"
   ]
  },
  {
   "cell_type": "code",
   "execution_count": 25,
   "id": "c03f90bd",
   "metadata": {},
   "outputs": [
    {
     "data": {
      "application/vnd.jupyter.widget-view+json": {
       "model_id": "faf382e02ec24d3387d195eeec7dd852",
       "version_major": 2,
       "version_minor": 0
      },
      "text/plain": [
       "  0%|          | 0/10000 [00:00<?, ?it/s]"
      ]
     },
     "metadata": {},
     "output_type": "display_data"
    }
   ],
   "source": [
    "stemmed_texts_list = []\n",
    "for text in tqdm(df_res['text_prep']):\n",
    "    tokens = word_tokenize(text)    \n",
    "    stemmed_tokens = [stemmer.stem(token) for token in tokens if token not in russian_stopwords]\n",
    "    text = \" \".join(stemmed_tokens)\n",
    "    stemmed_texts_list.append(text)\n",
    "\n",
    "df_res['text_stem'] = stemmed_texts_list"
   ]
  },
  {
   "cell_type": "code",
   "execution_count": 26,
   "id": "a687337e",
   "metadata": {},
   "outputs": [],
   "source": [
    "def remove_stop_words(text):\n",
    "    tokens = word_tokenize(text) \n",
    "    tokens = [token for token in tokens if token not in russian_stopwords and token != ' ']\n",
    "    return \" \".join(tokens)"
   ]
  },
  {
   "cell_type": "code",
   "execution_count": 27,
   "id": "17b55959",
   "metadata": {},
   "outputs": [
    {
     "data": {
      "text/html": [
       "<div>\n",
       "<style scoped>\n",
       "    .dataframe tbody tr th:only-of-type {\n",
       "        vertical-align: middle;\n",
       "    }\n",
       "\n",
       "    .dataframe tbody tr th {\n",
       "        vertical-align: top;\n",
       "    }\n",
       "\n",
       "    .dataframe thead th {\n",
       "        text-align: right;\n",
       "    }\n",
       "</style>\n",
       "<table border=\"1\" class=\"dataframe\">\n",
       "  <thead>\n",
       "    <tr style=\"text-align: right;\">\n",
       "      <th></th>\n",
       "      <th>url</th>\n",
       "      <th>title</th>\n",
       "      <th>text</th>\n",
       "      <th>topic</th>\n",
       "      <th>tags</th>\n",
       "      <th>date</th>\n",
       "      <th>text_prep</th>\n",
       "      <th>text_stem</th>\n",
       "    </tr>\n",
       "  </thead>\n",
       "  <tbody>\n",
       "    <tr>\n",
       "      <th>0</th>\n",
       "      <td>https://lenta.ru/news/1999/08/31/stancia_mir/</td>\n",
       "      <td>Космонавты сомневаются в надежности \"Мира\"</td>\n",
       "      <td>Как стало известно агентству Ассошиэйтед Пресс...</td>\n",
       "      <td>Россия</td>\n",
       "      <td>Все</td>\n",
       "      <td>1999/08/31</td>\n",
       "      <td>как стало известно агентству ассошиэйтед пресс...</td>\n",
       "      <td>стал известн агентств ассошиэйтед пресс экипаж...</td>\n",
       "    </tr>\n",
       "  </tbody>\n",
       "</table>\n",
       "</div>"
      ],
      "text/plain": [
       "                                             url  \\\n",
       "0  https://lenta.ru/news/1999/08/31/stancia_mir/   \n",
       "\n",
       "                                        title  \\\n",
       "0  Космонавты сомневаются в надежности \"Мира\"   \n",
       "\n",
       "                                                text   topic tags        date  \\\n",
       "0  Как стало известно агентству Ассошиэйтед Пресс...  Россия  Все  1999/08/31   \n",
       "\n",
       "                                           text_prep  \\\n",
       "0  как стало известно агентству ассошиэйтед пресс...   \n",
       "\n",
       "                                           text_stem  \n",
       "0  стал известн агентств ассошиэйтед пресс экипаж...  "
      ]
     },
     "execution_count": 27,
     "metadata": {},
     "output_type": "execute_result"
    }
   ],
   "source": [
    "df_res.head(1)"
   ]
  },
  {
   "cell_type": "code",
   "execution_count": 28,
   "id": "35bf904a",
   "metadata": {},
   "outputs": [
    {
     "data": {
      "application/vnd.jupyter.widget-view+json": {
       "model_id": "f6c2a18b4cd04869965166fc908f4a86",
       "version_major": 2,
       "version_minor": 0
      },
      "text/plain": [
       "  0%|          | 0/10000 [00:00<?, ?it/s]"
      ]
     },
     "metadata": {},
     "output_type": "display_data"
    }
   ],
   "source": [
    "sw_texts_list = []\n",
    "for text in tqdm(df_res['text_prep']):\n",
    "    tokens = word_tokenize(text)    \n",
    "    tokens = [token for token in tokens if token not in russian_stopwords and token != ' ']\n",
    "    text = \" \".join(tokens)\n",
    "    sw_texts_list.append(text)\n",
    "\n",
    "df_res['text_sw'] = sw_texts_list"
   ]
  },
  {
   "cell_type": "code",
   "execution_count": 29,
   "id": "36f08ac9",
   "metadata": {},
   "outputs": [
    {
     "data": {
      "text/plain": [
       "'конце прошлой недели сотрудники государственного таможенного комитета федеральной службы безопасности рф провели антипиратскую акцию однако прежде правоохранительные органы конфисковывали пиратскую продукцию задерживали распространителей акция направлена непосредственно против производителей пиратских компакт дисков сообщает агентство алгоритм оперативно розыскные действия проводились одновременно подмосковном зеленограде административной российско белорусской границе задержана машина тысячами произведенных зеленограде компакт дисков конечным местом назначения польша задержания машины сотрудники гтк фсб провели обыск задержания подпольном заводе зеленограде который располагался арендованном режимного предприятия компонент занимается производством микросхем впк помещении хозяином завода оказалась фирма диск пресс мск данным правоохранительных органов диск пресс мск принадлежит гражданину болгарии — одному компаньонов арестованного году филиппа стайкова кличка — болгарин используемая пиратской фирмой производственная линия приобретена чехии привезена россию видом кузнечных прессов стоимость оборудования составила около миллиона долларов сша сутки линии напечатать тысяч компакт дисков которые продавались оптовым покупателям цене доллара штуку обыске заводе обнаружено тысяч напечатанных пиратских компакт дисков результате операции арестованы человека которым предъявлено обвинение контрабанде предполагается ближайшее время также предъявят обвинения незаконном предпринимательстве нарушении авторских прав неуплате налогов сведениям алгоритма закрытие производства зеленограде вызвало панику продавцов компакт дисков митинском рынке горбушке'"
      ]
     },
     "execution_count": 29,
     "metadata": {},
     "output_type": "execute_result"
    }
   ],
   "source": [
    "df_res['text_sw'][300]"
   ]
  },
  {
   "cell_type": "code",
   "execution_count": 30,
   "id": "fb8a0848",
   "metadata": {},
   "outputs": [],
   "source": [
    "df_res.to_csv('lenta_stemmed.csv')"
   ]
  },
  {
   "cell_type": "code",
   "execution_count": 31,
   "id": "cf308ec2",
   "metadata": {},
   "outputs": [
    {
     "data": {
      "text/plain": [
       "'конц прошл недел сотрудник государствен таможен комитет федеральн служб безопасн рф провел антипиратск акц однак прежд правоохранительн орга конфисковыва пиратск продукц задержива распространител акц направл непосредствен прот производител пиратск компакт диск сообща агентств алгоритм оперативн розыскн действ провод одновремен подмосковн зеленоград административн российск белорусск границ задержа машин тысяч произведен зеленоград компакт диск конечн мест назначен польш задержан машин сотрудник гтк фсб провел обыск задержан подпольн завод зеленоград котор располага арендова режимн предприят компонент занима производств микросх впк помещен хозяин завод оказа фирм диск пресс мск дан правоохранительн орган диск пресс мск принадлеж гражданин болгар — одн компаньон арестова год филипп стайков кличк — болгарин используем пиратск фирм производствен лин приобрет чех привез росс вид кузнечн пресс стоимост оборудован состав окол миллион доллар сша сутк лин напечата тысяч компакт диск котор продава оптов покупател цен доллар штук обыск завод обнаруж тысяч напечата пиратск компакт диск результат операц арестова человек котор предъявл обвинен контрабанд предполага ближайш врем такж предъяв обвинен незакон предпринимательств нарушен авторск прав неуплат налог сведен алгоритм закрыт производств зеленоград вызва паник продавц компакт диск митинск рынк горбушк'"
      ]
     },
     "execution_count": 31,
     "metadata": {},
     "output_type": "execute_result"
    }
   ],
   "source": [
    "df_res['text_stem'][300]"
   ]
  },
  {
   "cell_type": "code",
   "execution_count": 32,
   "id": "bbe7ed41",
   "metadata": {},
   "outputs": [
    {
     "data": {
      "text/html": [
       "<div>\n",
       "<style scoped>\n",
       "    .dataframe tbody tr th:only-of-type {\n",
       "        vertical-align: middle;\n",
       "    }\n",
       "\n",
       "    .dataframe tbody tr th {\n",
       "        vertical-align: top;\n",
       "    }\n",
       "\n",
       "    .dataframe thead th {\n",
       "        text-align: right;\n",
       "    }\n",
       "</style>\n",
       "<table border=\"1\" class=\"dataframe\">\n",
       "  <thead>\n",
       "    <tr style=\"text-align: right;\">\n",
       "      <th></th>\n",
       "      <th>url</th>\n",
       "      <th>title</th>\n",
       "      <th>text</th>\n",
       "      <th>topic</th>\n",
       "      <th>tags</th>\n",
       "      <th>date</th>\n",
       "      <th>text_prep</th>\n",
       "      <th>text_stem</th>\n",
       "      <th>text_sw</th>\n",
       "    </tr>\n",
       "  </thead>\n",
       "  <tbody>\n",
       "    <tr>\n",
       "      <th>0</th>\n",
       "      <td>https://lenta.ru/news/1999/08/31/stancia_mir/</td>\n",
       "      <td>Космонавты сомневаются в надежности \"Мира\"</td>\n",
       "      <td>Как стало известно агентству Ассошиэйтед Пресс...</td>\n",
       "      <td>Россия</td>\n",
       "      <td>Все</td>\n",
       "      <td>1999/08/31</td>\n",
       "      <td>как стало известно агентству ассошиэйтед пресс...</td>\n",
       "      <td>стал известн агентств ассошиэйтед пресс экипаж...</td>\n",
       "      <td>стало известно агентству ассошиэйтед пресс эки...</td>\n",
       "    </tr>\n",
       "  </tbody>\n",
       "</table>\n",
       "</div>"
      ],
      "text/plain": [
       "                                             url  \\\n",
       "0  https://lenta.ru/news/1999/08/31/stancia_mir/   \n",
       "\n",
       "                                        title  \\\n",
       "0  Космонавты сомневаются в надежности \"Мира\"   \n",
       "\n",
       "                                                text   topic tags        date  \\\n",
       "0  Как стало известно агентству Ассошиэйтед Пресс...  Россия  Все  1999/08/31   \n",
       "\n",
       "                                           text_prep  \\\n",
       "0  как стало известно агентству ассошиэйтед пресс...   \n",
       "\n",
       "                                           text_stem  \\\n",
       "0  стал известн агентств ассошиэйтед пресс экипаж...   \n",
       "\n",
       "                                             text_sw  \n",
       "0  стало известно агентству ассошиэйтед пресс эки...  "
      ]
     },
     "execution_count": 32,
     "metadata": {},
     "output_type": "execute_result"
    }
   ],
   "source": [
    "df_res.head(1)"
   ]
  },
  {
   "cell_type": "code",
   "execution_count": 33,
   "id": "2d57205f",
   "metadata": {},
   "outputs": [
    {
     "data": {
      "text/plain": [
       "(10000, 9)"
      ]
     },
     "execution_count": 33,
     "metadata": {},
     "output_type": "execute_result"
    }
   ],
   "source": [
    "df_res.shape"
   ]
  },
  {
   "cell_type": "code",
   "execution_count": null,
   "id": "23685f01",
   "metadata": {},
   "outputs": [],
   "source": []
  },
  {
   "cell_type": "code",
   "execution_count": null,
   "id": "07a8830c",
   "metadata": {},
   "outputs": [],
   "source": []
  },
  {
   "cell_type": "code",
   "execution_count": 34,
   "id": "2ca22106",
   "metadata": {},
   "outputs": [],
   "source": [
    "#Лемматизация"
   ]
  },
  {
   "cell_type": "code",
   "execution_count": 35,
   "id": "0f5f8008",
   "metadata": {},
   "outputs": [
    {
     "data": {
      "application/vnd.jupyter.widget-view+json": {
       "model_id": "8ed0b3fb805d4728985ff14c7adafe9d",
       "version_major": 2,
       "version_minor": 0
      },
      "text/plain": [
       "  0%|          | 0/10000 [00:00<?, ?it/s]"
      ]
     },
     "metadata": {},
     "output_type": "display_data"
    }
   ],
   "source": [
    "lemm_texts_list = []\n",
    "for text in tqdm(df_res['text_stem']):\n",
    "    text_lem = mystem.lemmatize(text)\n",
    "    tokens = [token for token in text_lem if token != ' ' and token not in russian_stopwords]\n",
    "    text = \" \".join(tokens)\n",
    "    lemm_texts_list.append(text)\n",
    "\n",
    "df_res['text_lemm'] = lemm_texts_list"
   ]
  },
  {
   "cell_type": "code",
   "execution_count": 36,
   "id": "8f9a21ec",
   "metadata": {},
   "outputs": [],
   "source": [
    "def lemmatize_text(text):\n",
    "    text_lem = mystem.lemmatize(text)\n",
    "    tokens = [token for token in text_lem if token != ' ']\n",
    "    return \" \".join(tokens)"
   ]
  },
  {
   "cell_type": "code",
   "execution_count": 37,
   "id": "d4e2c88a",
   "metadata": {},
   "outputs": [],
   "source": [
    "df_res.to_csv('lemm.csv')"
   ]
  },
  {
   "cell_type": "code",
   "execution_count": 38,
   "id": "6bd04acb",
   "metadata": {},
   "outputs": [],
   "source": [
    "#df_res = pd.read_csv('lemm.csv', encoding = 'utf-8')"
   ]
  },
  {
   "cell_type": "code",
   "execution_count": 39,
   "id": "ea4985e3",
   "metadata": {},
   "outputs": [
    {
     "data": {
      "text/html": [
       "<div>\n",
       "<style scoped>\n",
       "    .dataframe tbody tr th:only-of-type {\n",
       "        vertical-align: middle;\n",
       "    }\n",
       "\n",
       "    .dataframe tbody tr th {\n",
       "        vertical-align: top;\n",
       "    }\n",
       "\n",
       "    .dataframe thead th {\n",
       "        text-align: right;\n",
       "    }\n",
       "</style>\n",
       "<table border=\"1\" class=\"dataframe\">\n",
       "  <thead>\n",
       "    <tr style=\"text-align: right;\">\n",
       "      <th></th>\n",
       "      <th>url</th>\n",
       "      <th>title</th>\n",
       "      <th>text</th>\n",
       "      <th>topic</th>\n",
       "      <th>tags</th>\n",
       "      <th>date</th>\n",
       "      <th>text_prep</th>\n",
       "      <th>text_stem</th>\n",
       "      <th>text_sw</th>\n",
       "      <th>text_lemm</th>\n",
       "    </tr>\n",
       "  </thead>\n",
       "  <tbody>\n",
       "    <tr>\n",
       "      <th>0</th>\n",
       "      <td>https://lenta.ru/news/1999/08/31/stancia_mir/</td>\n",
       "      <td>Космонавты сомневаются в надежности \"Мира\"</td>\n",
       "      <td>Как стало известно агентству Ассошиэйтед Пресс...</td>\n",
       "      <td>Россия</td>\n",
       "      <td>Все</td>\n",
       "      <td>1999/08/31</td>\n",
       "      <td>как стало известно агентству ассошиэйтед пресс...</td>\n",
       "      <td>стал известн агентств ассошиэйтед пресс экипаж...</td>\n",
       "      <td>стало известно агентству ассошиэйтед пресс эки...</td>\n",
       "      <td>становиться известна агентство ассошиэйтед пре...</td>\n",
       "    </tr>\n",
       "  </tbody>\n",
       "</table>\n",
       "</div>"
      ],
      "text/plain": [
       "                                             url  \\\n",
       "0  https://lenta.ru/news/1999/08/31/stancia_mir/   \n",
       "\n",
       "                                        title  \\\n",
       "0  Космонавты сомневаются в надежности \"Мира\"   \n",
       "\n",
       "                                                text   topic tags        date  \\\n",
       "0  Как стало известно агентству Ассошиэйтед Пресс...  Россия  Все  1999/08/31   \n",
       "\n",
       "                                           text_prep  \\\n",
       "0  как стало известно агентству ассошиэйтед пресс...   \n",
       "\n",
       "                                           text_stem  \\\n",
       "0  стал известн агентств ассошиэйтед пресс экипаж...   \n",
       "\n",
       "                                             text_sw  \\\n",
       "0  стало известно агентству ассошиэйтед пресс эки...   \n",
       "\n",
       "                                           text_lemm  \n",
       "0  становиться известна агентство ассошиэйтед пре...  "
      ]
     },
     "execution_count": 39,
     "metadata": {},
     "output_type": "execute_result"
    }
   ],
   "source": [
    "df_res.head(1)"
   ]
  },
  {
   "cell_type": "code",
   "execution_count": 40,
   "id": "dc2084a2",
   "metadata": {},
   "outputs": [
    {
     "data": {
      "text/plain": [
       "(10000, 10)"
      ]
     },
     "execution_count": 40,
     "metadata": {},
     "output_type": "execute_result"
    }
   ],
   "source": [
    "df_res.shape"
   ]
  },
  {
   "cell_type": "code",
   "execution_count": 41,
   "id": "607c1e0c",
   "metadata": {},
   "outputs": [
    {
     "data": {
      "text/plain": [
       "'конц прошлый недел сотрудник государственный таможня комитет федеральна служба безопасна рф проводить антипиратск акца однак прежды правоохранительн орг конфисковыв пиратск продукца задержив распространител акца направл непосредственный прот производител пиратск компакт диск сообща агентство алгоритм оперативна розыскна действо провод одновремя подмосковн зеленоград административна российск белорусск граница задерж машина тысяча производить зеленоград компакт диск конечный место назначать польша задерживать машина сотрудник гтк фсб проводить обыск задерживать подпольн завод зеленоград котор располага арендова режимн предприять компонент заним производство микросх впк помещать хозяин завод оказ фирма диск пресс мск давать правоохранительн орган диск пресс мск принадлеж гражданин болгарин  —  одн компаньон арестов год филипп стайков клички  —  болгарин использовать пиратск фирма производственный лин приобрет чех привозить росс вид кузнечный пресс стоимост оборудовать состав окол миллион доллар сша сутк лин напечата тысяча компакт диск котор продав опт покупател цена доллар штука обыск завод обнаруж тысяча напечата пиратск компакт диск результат операц арестов человек котор предъявл обвинять контрабанда предполага ближайша врать такж предъять обвинять незакон предпринимательство нарушать авторск право неуплата налог сводить алгоритм закрытый производство зеленоград вызва паника продавц компакт диск митинск рынк горбушк \\n'"
      ]
     },
     "execution_count": 41,
     "metadata": {},
     "output_type": "execute_result"
    }
   ],
   "source": [
    "df_res['text_lemm'][300]"
   ]
  },
  {
   "cell_type": "code",
   "execution_count": null,
   "id": "cd7a6582",
   "metadata": {},
   "outputs": [],
   "source": []
  },
  {
   "cell_type": "code",
   "execution_count": null,
   "id": "f4f692cb",
   "metadata": {},
   "outputs": [],
   "source": []
  },
  {
   "cell_type": "code",
   "execution_count": 42,
   "id": "cb571ae1",
   "metadata": {},
   "outputs": [],
   "source": [
    "X = df_res['text_lemm']\n",
    "y = df_res['topic']"
   ]
  },
  {
   "cell_type": "code",
   "execution_count": 43,
   "id": "018f6b06",
   "metadata": {},
   "outputs": [],
   "source": [
    "from sklearn.model_selection import train_test_split\n",
    "#X_train, X_test, y_train, y_test = train_test_split(X, y, test_size=0.3, random_state = 42)\n",
    "X_train, X_test, y_train, y_test = train_test_split(X, y, test_size=None, train_size=None, random_state = 0)"
   ]
  },
  {
   "cell_type": "code",
   "execution_count": 44,
   "id": "a6ac27a9",
   "metadata": {},
   "outputs": [
    {
     "data": {
      "text/plain": [
       "array(['Россия', 'Спорт', 'Мир', 'Наука и техника', 'Экономика'],\n",
       "      dtype=object)"
      ]
     },
     "execution_count": 44,
     "metadata": {},
     "output_type": "execute_result"
    }
   ],
   "source": [
    "my_tags = df_res['topic'].unique()\n",
    "my_tags"
   ]
  },
  {
   "cell_type": "code",
   "execution_count": null,
   "id": "18e7068a",
   "metadata": {},
   "outputs": [],
   "source": []
  },
  {
   "cell_type": "code",
   "execution_count": null,
   "id": "a53994db",
   "metadata": {},
   "outputs": [],
   "source": []
  },
  {
   "cell_type": "code",
   "execution_count": null,
   "id": "09d868cd",
   "metadata": {},
   "outputs": [],
   "source": []
  },
  {
   "cell_type": "code",
   "execution_count": 45,
   "id": "6397a947",
   "metadata": {},
   "outputs": [],
   "source": [
    "#Naive Bayes Classifier"
   ]
  },
  {
   "cell_type": "code",
   "execution_count": 46,
   "id": "89d1e46d",
   "metadata": {},
   "outputs": [],
   "source": [
    "from sklearn.naive_bayes import MultinomialNB\n",
    "from sklearn.pipeline import Pipeline\n",
    "from sklearn.feature_extraction.text import TfidfTransformer\n",
    "from sklearn.feature_extraction.text import CountVectorizer"
   ]
  },
  {
   "cell_type": "code",
   "execution_count": 47,
   "id": "01df7cd4",
   "metadata": {},
   "outputs": [],
   "source": [
    "nb = Pipeline([('vect', CountVectorizer()),\n",
    "               ('tfidf', TfidfTransformer()),\n",
    "               ('clf', MultinomialNB()),\n",
    "              ])"
   ]
  },
  {
   "cell_type": "code",
   "execution_count": 48,
   "id": "a9795a8d",
   "metadata": {},
   "outputs": [],
   "source": [
    "from sklearn.model_selection import cross_val_score\n",
    "from sklearn.model_selection import KFold\n",
    "# prepare the cross-validation procedure\n",
    "cv = KFold(n_splits=10, random_state=1, shuffle=True)\n",
    "all_accuracies = cross_val_score(estimator=nb, X=X_train, y=y_train, cv=cv)"
   ]
  },
  {
   "cell_type": "code",
   "execution_count": 49,
   "id": "5231fa1a",
   "metadata": {},
   "outputs": [
    {
     "name": "stdout",
     "output_type": "stream",
     "text": [
      "0.8761333333333333\n"
     ]
    }
   ],
   "source": [
    "print(all_accuracies.mean())"
   ]
  },
  {
   "cell_type": "code",
   "execution_count": null,
   "id": "01f169dc",
   "metadata": {},
   "outputs": [],
   "source": []
  },
  {
   "cell_type": "code",
   "execution_count": 50,
   "id": "4ffdc956",
   "metadata": {},
   "outputs": [],
   "source": [
    "#%%time\n",
    "#nb.fit(X_train, y_train)"
   ]
  },
  {
   "cell_type": "code",
   "execution_count": 51,
   "id": "9785d840",
   "metadata": {},
   "outputs": [],
   "source": [
    "#nb.score(X_test, y_test)"
   ]
  },
  {
   "cell_type": "code",
   "execution_count": 52,
   "id": "5c1e61c4",
   "metadata": {},
   "outputs": [],
   "source": [
    "#%%time\n",
    "#from sklearn.metrics import classification_report\n",
    "#y_pred = nb.predict(X_test)"
   ]
  },
  {
   "cell_type": "code",
   "execution_count": 53,
   "id": "1f6ddf89",
   "metadata": {},
   "outputs": [],
   "source": [
    "#from sklearn.metrics import accuracy_score\n",
    "\n",
    "#print('accuracy %s' % accuracy_score(y_pred, y_test))\n",
    "#print(classification_report(y_test, y_pred, target_names=my_tags))"
   ]
  },
  {
   "cell_type": "code",
   "execution_count": null,
   "id": "119c46ee",
   "metadata": {},
   "outputs": [],
   "source": []
  },
  {
   "cell_type": "code",
   "execution_count": null,
   "id": "ba7a190f",
   "metadata": {},
   "outputs": [],
   "source": []
  },
  {
   "cell_type": "code",
   "execution_count": 54,
   "id": "2867ba8b",
   "metadata": {},
   "outputs": [],
   "source": [
    "#Support Vector Machine"
   ]
  },
  {
   "cell_type": "code",
   "execution_count": 55,
   "id": "f392aa1b",
   "metadata": {},
   "outputs": [],
   "source": [
    "from sklearn.linear_model import SGDClassifier\n",
    "\n",
    "sgd = Pipeline([('vect', CountVectorizer()),\n",
    "                ('tfidf', TfidfTransformer()),\n",
    "                ('clf', SGDClassifier(loss='hinge', penalty='l2',alpha=1e-3, random_state=42, max_iter=5, tol=None)),\n",
    "               ])"
   ]
  },
  {
   "cell_type": "code",
   "execution_count": 56,
   "id": "0bd16b42",
   "metadata": {},
   "outputs": [],
   "source": [
    "from sklearn.model_selection import cross_val_score\n",
    "from sklearn.model_selection import KFold\n",
    "# prepare the cross-validation procedure\n",
    "cv = KFold(n_splits=10, random_state=1, shuffle=True)\n",
    "all_accuracies = cross_val_score(estimator=sgd, X=X_train, y=y_train, cv=cv)"
   ]
  },
  {
   "cell_type": "code",
   "execution_count": 57,
   "id": "874a2e13",
   "metadata": {},
   "outputs": [
    {
     "name": "stdout",
     "output_type": "stream",
     "text": [
      "0.8908000000000001\n"
     ]
    }
   ],
   "source": [
    "print(all_accuracies.mean())"
   ]
  },
  {
   "cell_type": "code",
   "execution_count": null,
   "id": "7cef4c96",
   "metadata": {},
   "outputs": [],
   "source": []
  },
  {
   "cell_type": "code",
   "execution_count": 58,
   "id": "5f883a05",
   "metadata": {},
   "outputs": [],
   "source": [
    "#%%time\n",
    "#sgd.fit(X_train, y_train)"
   ]
  },
  {
   "cell_type": "code",
   "execution_count": 59,
   "id": "e8394ec6",
   "metadata": {},
   "outputs": [],
   "source": [
    "#sgd.score(X_test, y_test)"
   ]
  },
  {
   "cell_type": "code",
   "execution_count": 60,
   "id": "e9d7277b",
   "metadata": {},
   "outputs": [],
   "source": [
    "#%%time\n",
    "#y_pred = sgd.predict(X_test)"
   ]
  },
  {
   "cell_type": "code",
   "execution_count": 61,
   "id": "a86f8e40",
   "metadata": {},
   "outputs": [],
   "source": [
    "#print('accuracy %s' % accuracy_score(y_pred, y_test))\n",
    "#print(classification_report(y_test, y_pred,target_names=my_tags))"
   ]
  },
  {
   "cell_type": "code",
   "execution_count": null,
   "id": "5ed82fc5",
   "metadata": {},
   "outputs": [],
   "source": []
  },
  {
   "cell_type": "code",
   "execution_count": null,
   "id": "4ea5f542",
   "metadata": {},
   "outputs": [],
   "source": []
  },
  {
   "cell_type": "code",
   "execution_count": 62,
   "id": "a98cc0f4",
   "metadata": {},
   "outputs": [],
   "source": [
    "#Logistic Regression"
   ]
  },
  {
   "cell_type": "code",
   "execution_count": 63,
   "id": "0ec69ab2",
   "metadata": {},
   "outputs": [],
   "source": [
    "from sklearn.linear_model import LogisticRegression\n",
    "\n",
    "logreg = Pipeline([('vect', CountVectorizer()),\n",
    "                ('tfidf', TfidfTransformer()),\n",
    "                ('clf', LogisticRegression(n_jobs=1, C=1e5, max_iter=1000)),\n",
    "               ])"
   ]
  },
  {
   "cell_type": "code",
   "execution_count": 64,
   "id": "f71b85e7",
   "metadata": {},
   "outputs": [],
   "source": [
    "from sklearn.model_selection import cross_val_score\n",
    "from sklearn.model_selection import KFold\n",
    "# prepare the cross-validation procedure\n",
    "cv = KFold(n_splits=10, random_state=1, shuffle=True)\n",
    "all_accuracies = cross_val_score(estimator=logreg, X=X_train, y=y_train, cv=cv)"
   ]
  },
  {
   "cell_type": "code",
   "execution_count": 65,
   "id": "cd4224df",
   "metadata": {},
   "outputs": [
    {
     "name": "stdout",
     "output_type": "stream",
     "text": [
      "0.9018666666666666\n"
     ]
    }
   ],
   "source": [
    "print(all_accuracies.mean())"
   ]
  },
  {
   "cell_type": "code",
   "execution_count": null,
   "id": "bb71eaf1",
   "metadata": {},
   "outputs": [],
   "source": []
  },
  {
   "cell_type": "code",
   "execution_count": 66,
   "id": "cecf5469",
   "metadata": {},
   "outputs": [],
   "source": [
    "#%%time\n",
    "#logreg.fit(X_train, y_train)"
   ]
  },
  {
   "cell_type": "code",
   "execution_count": 67,
   "id": "7dba4e68",
   "metadata": {},
   "outputs": [],
   "source": [
    "#logreg.score(X_test, y_test)"
   ]
  },
  {
   "cell_type": "code",
   "execution_count": 68,
   "id": "14bc9341",
   "metadata": {},
   "outputs": [],
   "source": [
    "#%%time\n",
    "#y_pred = logreg.predict(X_test)"
   ]
  },
  {
   "cell_type": "code",
   "execution_count": 69,
   "id": "dde99535",
   "metadata": {},
   "outputs": [],
   "source": [
    "#print('accuracy %s' % accuracy_score(y_pred, y_test))\n",
    "#print(classification_report(y_test, y_pred,target_names=my_tags))"
   ]
  },
  {
   "cell_type": "code",
   "execution_count": null,
   "id": "5c35cd00",
   "metadata": {},
   "outputs": [],
   "source": []
  },
  {
   "cell_type": "code",
   "execution_count": null,
   "id": "0ba26f9e",
   "metadata": {},
   "outputs": [],
   "source": []
  },
  {
   "cell_type": "code",
   "execution_count": 70,
   "id": "98782342",
   "metadata": {},
   "outputs": [],
   "source": [
    "#k-Nearest Neighbors"
   ]
  },
  {
   "cell_type": "code",
   "execution_count": 71,
   "id": "18c7dceb",
   "metadata": {},
   "outputs": [],
   "source": [
    "from sklearn import datasets\n",
    "from sklearn.metrics import confusion_matrix\n",
    "from sklearn.model_selection import train_test_split\n",
    "from sklearn.neighbors import KNeighborsClassifier"
   ]
  },
  {
   "cell_type": "code",
   "execution_count": 72,
   "id": "38119aa4",
   "metadata": {},
   "outputs": [],
   "source": [
    "kNN = Pipeline([('vect', CountVectorizer()),\n",
    "                ('tfidf', TfidfTransformer()),\n",
    "                ('clf', KNeighborsClassifier(n_neighbors = 7)),\n",
    "               ])"
   ]
  },
  {
   "cell_type": "code",
   "execution_count": 73,
   "id": "732e38d6",
   "metadata": {},
   "outputs": [],
   "source": [
    "from sklearn.model_selection import cross_val_score\n",
    "from sklearn.model_selection import KFold\n",
    "# prepare the cross-validation procedure\n",
    "cv = KFold(n_splits=10, random_state=1, shuffle=True)\n",
    "all_accuracies = cross_val_score(estimator=kNN, X=X_train, y=y_train, cv=cv)"
   ]
  },
  {
   "cell_type": "code",
   "execution_count": 74,
   "id": "ed583c34",
   "metadata": {},
   "outputs": [
    {
     "name": "stdout",
     "output_type": "stream",
     "text": [
      "0.8425333333333332\n"
     ]
    }
   ],
   "source": [
    "print(all_accuracies.mean())"
   ]
  },
  {
   "cell_type": "code",
   "execution_count": null,
   "id": "3b70faa2",
   "metadata": {},
   "outputs": [],
   "source": []
  },
  {
   "cell_type": "code",
   "execution_count": 75,
   "id": "25c9cf41",
   "metadata": {},
   "outputs": [],
   "source": [
    "#kNN.fit(X_train, y_train)"
   ]
  },
  {
   "cell_type": "code",
   "execution_count": 76,
   "id": "9fbd156d",
   "metadata": {},
   "outputs": [],
   "source": [
    "#kNN.score(X_test, y_test)"
   ]
  },
  {
   "cell_type": "code",
   "execution_count": 77,
   "id": "d0eb8381",
   "metadata": {},
   "outputs": [],
   "source": [
    "#%%time\n",
    "#y_pred = kNN.predict(X_test)"
   ]
  },
  {
   "cell_type": "code",
   "execution_count": 78,
   "id": "845d69fb",
   "metadata": {},
   "outputs": [],
   "source": [
    "#print('accuracy %s' % accuracy_score(y_pred, y_test))\n",
    "#print(classification_report(y_test, y_pred,target_names=my_tags))"
   ]
  },
  {
   "cell_type": "code",
   "execution_count": null,
   "id": "6e6a694d",
   "metadata": {},
   "outputs": [],
   "source": []
  },
  {
   "cell_type": "code",
   "execution_count": null,
   "id": "1eed7a88",
   "metadata": {},
   "outputs": [],
   "source": []
  },
  {
   "cell_type": "code",
   "execution_count": 79,
   "id": "aff84418",
   "metadata": {},
   "outputs": [],
   "source": [
    "#Decision Trees"
   ]
  },
  {
   "cell_type": "code",
   "execution_count": 80,
   "id": "fb94c56c",
   "metadata": {},
   "outputs": [],
   "source": [
    "from sklearn.tree import DecisionTreeClassifier"
   ]
  },
  {
   "cell_type": "code",
   "execution_count": 81,
   "id": "f0e6927c",
   "metadata": {},
   "outputs": [],
   "source": [
    "dtc = Pipeline([('vect', CountVectorizer()),\n",
    "                ('tfidf', TfidfTransformer()),\n",
    "                ('clf', DecisionTreeClassifier()),\n",
    "               ])"
   ]
  },
  {
   "cell_type": "code",
   "execution_count": 82,
   "id": "8c457922",
   "metadata": {},
   "outputs": [],
   "source": [
    "from sklearn.model_selection import cross_val_score\n",
    "from sklearn.model_selection import KFold\n",
    "# prepare the cross-validation procedure\n",
    "cv = KFold(n_splits=10, random_state=1, shuffle=True)\n",
    "all_accuracies = cross_val_score(estimator=dtc, X=X_train, y=y_train, cv=cv)"
   ]
  },
  {
   "cell_type": "code",
   "execution_count": 83,
   "id": "e61bfe11",
   "metadata": {},
   "outputs": [
    {
     "name": "stdout",
     "output_type": "stream",
     "text": [
      "0.7206666666666666\n"
     ]
    }
   ],
   "source": [
    "print(all_accuracies.mean())"
   ]
  },
  {
   "cell_type": "code",
   "execution_count": null,
   "id": "dc660728",
   "metadata": {},
   "outputs": [],
   "source": []
  },
  {
   "cell_type": "code",
   "execution_count": 84,
   "id": "4ea3ce31",
   "metadata": {},
   "outputs": [],
   "source": [
    "#dtc.fit(X_train, y_train)"
   ]
  },
  {
   "cell_type": "code",
   "execution_count": 85,
   "id": "ec65c781",
   "metadata": {},
   "outputs": [],
   "source": [
    "#dtc.score(X_test, y_test)"
   ]
  },
  {
   "cell_type": "code",
   "execution_count": 86,
   "id": "7fddb9c7",
   "metadata": {},
   "outputs": [],
   "source": [
    "#%%time\n",
    "#y_pred = dtc.predict(X_test)"
   ]
  },
  {
   "cell_type": "code",
   "execution_count": 87,
   "id": "6351f45b",
   "metadata": {},
   "outputs": [],
   "source": [
    "#print('accuracy %s' % accuracy_score(y_pred, y_test))\n",
    "#print(classification_report(y_test, y_pred,target_names=my_tags))"
   ]
  },
  {
   "cell_type": "code",
   "execution_count": null,
   "id": "3f0956f6",
   "metadata": {},
   "outputs": [],
   "source": []
  },
  {
   "cell_type": "code",
   "execution_count": null,
   "id": "1ac05359",
   "metadata": {},
   "outputs": [],
   "source": []
  },
  {
   "cell_type": "code",
   "execution_count": null,
   "id": "5de28af5",
   "metadata": {},
   "outputs": [],
   "source": []
  }
 ],
 "metadata": {
  "kernelspec": {
   "display_name": "Python 3",
   "language": "python",
   "name": "python3"
  },
  "language_info": {
   "codemirror_mode": {
    "name": "ipython",
    "version": 3
   },
   "file_extension": ".py",
   "mimetype": "text/x-python",
   "name": "python",
   "nbconvert_exporter": "python",
   "pygments_lexer": "ipython3",
   "version": "3.8.8"
  }
 },
 "nbformat": 4,
 "nbformat_minor": 5
}
